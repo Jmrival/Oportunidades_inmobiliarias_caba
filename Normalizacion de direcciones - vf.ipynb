{
 "cells": [
  {
   "cell_type": "code",
   "execution_count": 1,
   "id": "c1dfe77e",
   "metadata": {},
   "outputs": [],
   "source": [
    "import pandas as pd\n",
    "import numpy as np\n",
    "import os\n",
    "import re\n",
    "\n",
    "import requests\n",
    "import warnings\n",
    "warnings.filterwarnings(\"ignore\")\n",
    "\n",
    "from json.decoder import JSONDecodeError"
   ]
  },
  {
   "cell_type": "code",
   "execution_count": 2,
   "id": "0da23e98",
   "metadata": {},
   "outputs": [
    {
     "data": {
      "text/html": [
       "<div>\n",
       "<style scoped>\n",
       "    .dataframe tbody tr th:only-of-type {\n",
       "        vertical-align: middle;\n",
       "    }\n",
       "\n",
       "    .dataframe tbody tr th {\n",
       "        vertical-align: top;\n",
       "    }\n",
       "\n",
       "    .dataframe thead th {\n",
       "        text-align: right;\n",
       "    }\n",
       "</style>\n",
       "<table border=\"1\" class=\"dataframe\">\n",
       "  <thead>\n",
       "    <tr style=\"text-align: right;\">\n",
       "      <th></th>\n",
       "      <th>Clase</th>\n",
       "      <th>Barrio</th>\n",
       "      <th>Ubicacion</th>\n",
       "      <th>Descripcion</th>\n",
       "      <th>Precio</th>\n",
       "      <th>Links</th>\n",
       "      <th>fecha_consulta</th>\n",
       "      <th>tipo_prop</th>\n",
       "      <th>operacion</th>\n",
       "      <th>Barrio_vf</th>\n",
       "      <th>localidad</th>\n",
       "    </tr>\n",
       "  </thead>\n",
       "  <tbody>\n",
       "    <tr>\n",
       "      <th>0</th>\n",
       "      <td>Departamento en Venta en Palermo Soho, Palermo</td>\n",
       "      <td>Palermo Soho, Palermo</td>\n",
       "      <td>MARIO BRAVO 1100</td>\n",
       "      <td>Impecable Semipiso al Frente! M/lum! Excelente...</td>\n",
       "      <td>USD  135.000+$45.000expensas</td>\n",
       "      <td>https://www.argenprop.com/departamento-en-vent...</td>\n",
       "      <td>2024_01_09</td>\n",
       "      <td>Departamento</td>\n",
       "      <td>Venta</td>\n",
       "      <td>Palermo Soho</td>\n",
       "      <td>Palermo</td>\n",
       "    </tr>\n",
       "    <tr>\n",
       "      <th>1</th>\n",
       "      <td>Departamento en Venta en Palermo Chico, Palermo</td>\n",
       "      <td>Palermo Chico, Palermo</td>\n",
       "      <td>JUAN MARIA GUTIERREZ 3900</td>\n",
       "      <td>IMPEC PISO! Balcón corrido al fte c/vista al e...</td>\n",
       "      <td>USD  190.000+$45.000expensas</td>\n",
       "      <td>https://www.argenprop.com/departamento-en-vent...</td>\n",
       "      <td>2024_01_09</td>\n",
       "      <td>Departamento</td>\n",
       "      <td>Venta</td>\n",
       "      <td>Palermo Chico</td>\n",
       "      <td>Palermo</td>\n",
       "    </tr>\n",
       "    <tr>\n",
       "      <th>2</th>\n",
       "      <td>Departamento en Venta en Palermo, Capital Federal</td>\n",
       "      <td>Palermo, Capital Federal</td>\n",
       "      <td>CABRERA 3700, Piso 6</td>\n",
       "      <td>EDIFICIO MONLIEU PISO ALTO 144 m2, VENTA O PER...</td>\n",
       "      <td>USD  450.000+$70.000expensas</td>\n",
       "      <td>https://www.argenprop.com/departamento-en-vent...</td>\n",
       "      <td>2024_01_09</td>\n",
       "      <td>Departamento</td>\n",
       "      <td>Venta</td>\n",
       "      <td>Palermo</td>\n",
       "      <td>Capital Federal</td>\n",
       "    </tr>\n",
       "    <tr>\n",
       "      <th>3</th>\n",
       "      <td>Departamento en Venta en Palermo Soho, Palermo</td>\n",
       "      <td>Palermo Soho, Palermo</td>\n",
       "      <td>Soler al 4200</td>\n",
       "      <td>Excelente 2 ambientes en venta zona Palermo</td>\n",
       "      <td>USD  175.000+$20.000expensas</td>\n",
       "      <td>https://www.argenprop.com/departamento-en-vent...</td>\n",
       "      <td>2024_01_09</td>\n",
       "      <td>Departamento</td>\n",
       "      <td>Venta</td>\n",
       "      <td>Palermo Soho</td>\n",
       "      <td>Palermo</td>\n",
       "    </tr>\n",
       "    <tr>\n",
       "      <th>4</th>\n",
       "      <td>Departamento en Venta en Palermo Viejo, Palermo</td>\n",
       "      <td>Palermo Viejo, Palermo</td>\n",
       "      <td>Honduras 3900</td>\n",
       "      <td>SEMIPISO 95 m2. 4 Ambientes 2 BAÑOS COMPLETOS ...</td>\n",
       "      <td>USD  240.000+$25.000expensas</td>\n",
       "      <td>https://www.argenprop.com/departamento-en-vent...</td>\n",
       "      <td>2024_01_09</td>\n",
       "      <td>Departamento</td>\n",
       "      <td>Venta</td>\n",
       "      <td>Palermo Viejo</td>\n",
       "      <td>Palermo</td>\n",
       "    </tr>\n",
       "    <tr>\n",
       "      <th>...</th>\n",
       "      <td>...</td>\n",
       "      <td>...</td>\n",
       "      <td>...</td>\n",
       "      <td>...</td>\n",
       "      <td>...</td>\n",
       "      <td>...</td>\n",
       "      <td>...</td>\n",
       "      <td>...</td>\n",
       "      <td>...</td>\n",
       "      <td>...</td>\n",
       "      <td>...</td>\n",
       "    </tr>\n",
       "    <tr>\n",
       "      <th>101615</th>\n",
       "      <td>Departamento en Venta en Villa del Parque, Cap...</td>\n",
       "      <td>Villa del Parque, Capital Federal</td>\n",
       "      <td>Lavallol 2500</td>\n",
       "      <td>DEPTO 2 AMBIENTES  CON BALCON VILLA DEL PARQUE</td>\n",
       "      <td>USD  93.500</td>\n",
       "      <td>https://www.argenprop.com/departamento-en-vent...</td>\n",
       "      <td>2024_01_09</td>\n",
       "      <td>Departamento</td>\n",
       "      <td>Venta</td>\n",
       "      <td>Villa del Parque</td>\n",
       "      <td>Capital Federal</td>\n",
       "    </tr>\n",
       "    <tr>\n",
       "      <th>101616</th>\n",
       "      <td>Departamento en Venta en Parque Chacabuco, Cap...</td>\n",
       "      <td>Parque Chacabuco, Capital Federal</td>\n",
       "      <td>Boyacá 700</td>\n",
       "      <td>Venta departamento 3 ambientes con balcón y co...</td>\n",
       "      <td>USD  205.000</td>\n",
       "      <td>https://www.argenprop.com/departamento-en-vent...</td>\n",
       "      <td>2024_01_09</td>\n",
       "      <td>Departamento</td>\n",
       "      <td>Venta</td>\n",
       "      <td>Parque Chacabuco</td>\n",
       "      <td>Capital Federal</td>\n",
       "    </tr>\n",
       "    <tr>\n",
       "      <th>101617</th>\n",
       "      <td>Departamento en Venta en Villa del Parque, Cap...</td>\n",
       "      <td>Villa del Parque, Capital Federal</td>\n",
       "      <td>Lavallol 2500</td>\n",
       "      <td>DEPTO 3 AMBIENTES CON BALCON VILLA DEL PARQUE</td>\n",
       "      <td>USD  128.000</td>\n",
       "      <td>https://www.argenprop.com/departamento-en-vent...</td>\n",
       "      <td>2024_01_09</td>\n",
       "      <td>Departamento</td>\n",
       "      <td>Venta</td>\n",
       "      <td>Villa del Parque</td>\n",
       "      <td>Capital Federal</td>\n",
       "    </tr>\n",
       "    <tr>\n",
       "      <th>101618</th>\n",
       "      <td>Departamento en Venta en Villa del Parque, Cap...</td>\n",
       "      <td>Villa del Parque, Capital Federal</td>\n",
       "      <td>Lavallol 2500</td>\n",
       "      <td>DEPTO 3 AMBIENTES CON BALCON VILLA DEL PARQUE</td>\n",
       "      <td>USD  131.500</td>\n",
       "      <td>https://www.argenprop.com/departamento-en-vent...</td>\n",
       "      <td>2024_01_09</td>\n",
       "      <td>Departamento</td>\n",
       "      <td>Venta</td>\n",
       "      <td>Villa del Parque</td>\n",
       "      <td>Capital Federal</td>\n",
       "    </tr>\n",
       "    <tr>\n",
       "      <th>101619</th>\n",
       "      <td>Departamento en Venta en Villa del Parque, Cap...</td>\n",
       "      <td>Villa del Parque, Capital Federal</td>\n",
       "      <td>Lavallol 2500</td>\n",
       "      <td>DEPTO 2 AMBIENTES  CON BALCON VILLA DEL PARQUE</td>\n",
       "      <td>USD  90.600</td>\n",
       "      <td>https://www.argenprop.com/departamento-en-vent...</td>\n",
       "      <td>2024_01_09</td>\n",
       "      <td>Departamento</td>\n",
       "      <td>Venta</td>\n",
       "      <td>Villa del Parque</td>\n",
       "      <td>Capital Federal</td>\n",
       "    </tr>\n",
       "  </tbody>\n",
       "</table>\n",
       "<p>101620 rows × 11 columns</p>\n",
       "</div>"
      ],
      "text/plain": [
       "                                                    Clase  \\\n",
       "0          Departamento en Venta en Palermo Soho, Palermo   \n",
       "1         Departamento en Venta en Palermo Chico, Palermo   \n",
       "2       Departamento en Venta en Palermo, Capital Federal   \n",
       "3          Departamento en Venta en Palermo Soho, Palermo   \n",
       "4         Departamento en Venta en Palermo Viejo, Palermo   \n",
       "...                                                   ...   \n",
       "101615  Departamento en Venta en Villa del Parque, Cap...   \n",
       "101616  Departamento en Venta en Parque Chacabuco, Cap...   \n",
       "101617  Departamento en Venta en Villa del Parque, Cap...   \n",
       "101618  Departamento en Venta en Villa del Parque, Cap...   \n",
       "101619  Departamento en Venta en Villa del Parque, Cap...   \n",
       "\n",
       "                                   Barrio                  Ubicacion  \\\n",
       "0                   Palermo Soho, Palermo           MARIO BRAVO 1100   \n",
       "1                  Palermo Chico, Palermo  JUAN MARIA GUTIERREZ 3900   \n",
       "2                Palermo, Capital Federal       CABRERA 3700, Piso 6   \n",
       "3                   Palermo Soho, Palermo              Soler al 4200   \n",
       "4                  Palermo Viejo, Palermo              Honduras 3900   \n",
       "...                                   ...                        ...   \n",
       "101615  Villa del Parque, Capital Federal              Lavallol 2500   \n",
       "101616  Parque Chacabuco, Capital Federal                 Boyacá 700   \n",
       "101617  Villa del Parque, Capital Federal              Lavallol 2500   \n",
       "101618  Villa del Parque, Capital Federal              Lavallol 2500   \n",
       "101619  Villa del Parque, Capital Federal              Lavallol 2500   \n",
       "\n",
       "                                              Descripcion  \\\n",
       "0       Impecable Semipiso al Frente! M/lum! Excelente...   \n",
       "1       IMPEC PISO! Balcón corrido al fte c/vista al e...   \n",
       "2       EDIFICIO MONLIEU PISO ALTO 144 m2, VENTA O PER...   \n",
       "3             Excelente 2 ambientes en venta zona Palermo   \n",
       "4       SEMIPISO 95 m2. 4 Ambientes 2 BAÑOS COMPLETOS ...   \n",
       "...                                                   ...   \n",
       "101615     DEPTO 2 AMBIENTES  CON BALCON VILLA DEL PARQUE   \n",
       "101616  Venta departamento 3 ambientes con balcón y co...   \n",
       "101617      DEPTO 3 AMBIENTES CON BALCON VILLA DEL PARQUE   \n",
       "101618      DEPTO 3 AMBIENTES CON BALCON VILLA DEL PARQUE   \n",
       "101619     DEPTO 2 AMBIENTES  CON BALCON VILLA DEL PARQUE   \n",
       "\n",
       "                              Precio  \\\n",
       "0       USD  135.000+$45.000expensas   \n",
       "1       USD  190.000+$45.000expensas   \n",
       "2       USD  450.000+$70.000expensas   \n",
       "3       USD  175.000+$20.000expensas   \n",
       "4       USD  240.000+$25.000expensas   \n",
       "...                              ...   \n",
       "101615                   USD  93.500   \n",
       "101616                  USD  205.000   \n",
       "101617                  USD  128.000   \n",
       "101618                  USD  131.500   \n",
       "101619                   USD  90.600   \n",
       "\n",
       "                                                    Links fecha_consulta  \\\n",
       "0       https://www.argenprop.com/departamento-en-vent...     2024_01_09   \n",
       "1       https://www.argenprop.com/departamento-en-vent...     2024_01_09   \n",
       "2       https://www.argenprop.com/departamento-en-vent...     2024_01_09   \n",
       "3       https://www.argenprop.com/departamento-en-vent...     2024_01_09   \n",
       "4       https://www.argenprop.com/departamento-en-vent...     2024_01_09   \n",
       "...                                                   ...            ...   \n",
       "101615  https://www.argenprop.com/departamento-en-vent...     2024_01_09   \n",
       "101616  https://www.argenprop.com/departamento-en-vent...     2024_01_09   \n",
       "101617  https://www.argenprop.com/departamento-en-vent...     2024_01_09   \n",
       "101618  https://www.argenprop.com/departamento-en-vent...     2024_01_09   \n",
       "101619  https://www.argenprop.com/departamento-en-vent...     2024_01_09   \n",
       "\n",
       "           tipo_prop operacion         Barrio_vf         localidad  \n",
       "0       Departamento     Venta      Palermo Soho           Palermo  \n",
       "1       Departamento     Venta     Palermo Chico           Palermo  \n",
       "2       Departamento     Venta           Palermo   Capital Federal  \n",
       "3       Departamento     Venta      Palermo Soho           Palermo  \n",
       "4       Departamento     Venta     Palermo Viejo           Palermo  \n",
       "...              ...       ...               ...               ...  \n",
       "101615  Departamento     Venta  Villa del Parque   Capital Federal  \n",
       "101616  Departamento     Venta  Parque Chacabuco   Capital Federal  \n",
       "101617  Departamento     Venta  Villa del Parque   Capital Federal  \n",
       "101618  Departamento     Venta  Villa del Parque   Capital Federal  \n",
       "101619  Departamento     Venta  Villa del Parque   Capital Federal  \n",
       "\n",
       "[101620 rows x 11 columns]"
      ]
     },
     "execution_count": 2,
     "metadata": {},
     "output_type": "execute_result"
    }
   ],
   "source": [
    "#Revisar que la ruta sea la correcta\n",
    "\n",
    "current_dir = os.path.dirname(os.path.realpath(\"__file__\")) \n",
    "# filename = os.path.join(current_dir, \"Descargas Argenprop\\\\Argenprop_CABA_2024_01_04.csv\") \n",
    "filename = os.path.join(current_dir, \"Argenprop_CABA_2024_01_09.csv\") \n",
    "df = pd.read_csv(filename)\n",
    "df.drop('Unnamed: 0', axis=1, inplace=True)\n",
    "df\n"
   ]
  },
  {
   "cell_type": "code",
   "execution_count": 3,
   "id": "b1434642",
   "metadata": {},
   "outputs": [
    {
     "name": "stdout",
     "output_type": "stream",
     "text": [
      "['Federico García Lorca 1', 'Federico García Lorca 1', 'Federico García Lorca 3000', 'Otra Calle 5000']\n"
     ]
    }
   ],
   "source": [
    "#Corregimos las direcciones que solamente tengan 0 como altura\n",
    "def corregir_altura_cero(direccion):\n",
    "    if re.search(r'\\b0\\b', direccion) or re.search(r'\\b00\\b', direccion):\n",
    "        direccion = re.sub(r'\\b0\\b', '1', direccion)\n",
    "        direccion = re.sub(r'\\b00\\b', '1', direccion)\n",
    "    return direccion\n",
    "\n",
    "# Ejemplo de uso\n",
    "direcciones = [\"Federico García Lorca 0\", \"Federico García Lorca 00\", \"Federico García Lorca 3000\", \"Otra Calle 5000\"]\n",
    "\n",
    "direcciones_corregidas = [corregir_altura_cero(direccion) for direccion in direcciones]\n",
    "\n",
    "# Ahora puedes enviar direcciones_corregidas a la API\n",
    "print(direcciones_corregidas)"
   ]
  },
  {
   "cell_type": "code",
   "execution_count": 4,
   "id": "9bdcc1b4",
   "metadata": {},
   "outputs": [
    {
     "data": {
      "text/plain": [
       "Clase             Departamento en Venta en Caballito, Capital Fe...\n",
       "Barrio                                   Caballito, Capital Federal\n",
       "Ubicacion                                   Avenida Avellaneda 1000\n",
       "Descripcion       Depto 2 Amb Venta Frente 2 Balcones Caballito ...\n",
       "Precio                                                 USD  117.000\n",
       "Links             https://www.argenprop.com/departamento-en-vent...\n",
       "fecha_consulta                                           2024_01_09\n",
       "tipo_prop                                              Departamento\n",
       "operacion                                                     Venta\n",
       "Barrio_vf                                                 Caballito\n",
       "localidad                                           Capital Federal\n",
       "Name: 445, dtype: object"
      ]
     },
     "execution_count": 4,
     "metadata": {},
     "output_type": "execute_result"
    }
   ],
   "source": [
    "#Corrijo las altuas que figuran con \"0\"\n",
    "df['Ubicacion'] =df['Ubicacion'].apply(lambda x: corregir_altura_cero(x))\n",
    "df.loc[445]"
   ]
  },
  {
   "cell_type": "code",
   "execution_count": 5,
   "id": "49853a2d",
   "metadata": {},
   "outputs": [
    {
     "name": "stdout",
     "output_type": "stream",
     "text": [
      "[' pila 7400', ' pila 7400', 'pila 7400']\n"
     ]
    }
   ],
   "source": [
    "def corregir_nombres(direccion):  #Script para eliminar nombres que contienen expresiones que no reconocer la api (PE \"Pje.\")\n",
    "    filtrar = ['Pje.','Pasaje']\n",
    "    for f in filtrar:\n",
    "        direccion = direccion.lower().replace(f.lower(),'')\n",
    "    return direccion\n",
    "\n",
    "# Ejemplo de uso\n",
    "direcciones = [\"Pje. Pila 7400\", \"Pasaje Pila 7400\", \"Pila 7400\"]\n",
    "\n",
    "direcciones_corregidas = [corregir_nombres(direccion) for direccion in direcciones]\n",
    "\n",
    "# Ahora puedes enviar direcciones_corregidas a la API\n",
    "print(direcciones_corregidas)"
   ]
  },
  {
   "cell_type": "code",
   "execution_count": 6,
   "id": "7ed4e307",
   "metadata": {},
   "outputs": [
    {
     "data": {
      "text/plain": [
       "Clase                   Casa en Venta en Mataderos, Capital Federal\n",
       "Barrio                                   Mataderos, Capital Federal\n",
       "Ubicacion                                                 pila 7400\n",
       "Descripcion       Casa - Venta - Argentina, Capital Federal - Pj...\n",
       "Precio                                                 USD  209.900\n",
       "Links             https://www.argenprop.com/casa-en-venta-en-mat...\n",
       "fecha_consulta                                           2024_01_09\n",
       "tipo_prop                                                      Casa\n",
       "operacion                                                     Venta\n",
       "Barrio_vf                                                 Mataderos\n",
       "localidad                                           Capital Federal\n",
       "Name: 1731, dtype: object"
      ]
     },
     "execution_count": 6,
     "metadata": {},
     "output_type": "execute_result"
    }
   ],
   "source": [
    "#Normalizo nombres de las direcciones\n",
    "df['Ubicacion'] =df['Ubicacion'].apply(lambda x: corregir_nombres(x))\n",
    "df.loc[1731]"
   ]
  },
  {
   "cell_type": "code",
   "execution_count": 7,
   "id": "7c3fe0ac",
   "metadata": {},
   "outputs": [
    {
     "data": {
      "text/plain": [
       "Clase                   Casa en Venta en Mataderos, Capital Federal\n",
       "Barrio                                   Mataderos, Capital Federal\n",
       "Ubicacion                                                 pila 7400\n",
       "Descripcion       Casa - Venta - Argentina, Capital Federal - Pj...\n",
       "Precio                                                 USD  209.900\n",
       "Links             https://www.argenprop.com/casa-en-venta-en-mat...\n",
       "fecha_consulta                                           2024_01_09\n",
       "tipo_prop                                                      Casa\n",
       "operacion                                                     Venta\n",
       "Barrio_vf                                                 Mataderos\n",
       "localidad                                           Capital Federal\n",
       "Name: 1731, dtype: object"
      ]
     },
     "execution_count": 7,
     "metadata": {},
     "output_type": "execute_result"
    }
   ],
   "source": [
    "df.loc[1731]"
   ]
  },
  {
   "cell_type": "code",
   "execution_count": 8,
   "id": "344a89fb",
   "metadata": {},
   "outputs": [],
   "source": [
    "def extrae_coordenadas(ubicacion):\n",
    "    url_dir = f\"https://apis.datos.gob.ar/georef/api/direcciones?direccion={ubicacion}&provincia=caba\"\n",
    "    response = requests.get(url_dir, verify=False)\n",
    "    data = response.json()\n",
    "\n",
    "    if 'direcciones' in data and data['direcciones']:\n",
    "        lat = data['direcciones'][0]['ubicacion']['lat']\n",
    "        lon = data['direcciones'][0]['ubicacion']['lon']\n",
    "        return lat, lon\n",
    "    else:\n",
    "        return None, None\n",
    "    return lat,lon"
   ]
  },
  {
   "cell_type": "code",
   "execution_count": 9,
   "id": "12b3622f",
   "metadata": {},
   "outputs": [],
   "source": [
    "def extrae_lat(ubicacion):\n",
    "    url_dir = f\"https://apis.datos.gob.ar/georef/api/direcciones?direccion={ubicacion}&provincia=caba\"\n",
    "    response = requests.get(url_dir, verify=False)\n",
    "    data = response.json()\n",
    "\n",
    "    if 'direcciones' in data and data['direcciones']:\n",
    "        lat = data['direcciones'][0]['ubicacion']['lat']\n",
    "        lon = data['direcciones'][0]['ubicacion']['lon']\n",
    "        return lat\n",
    "    else:\n",
    "        return None\n",
    "    return lat\n",
    "\n",
    "def extrae_lon(ubicacion):\n",
    "    url_dir = f\"https://apis.datos.gob.ar/georef/api/direcciones?direccion={ubicacion}&provincia=caba\"\n",
    "    response = requests.get(url_dir, verify=False)\n",
    "    data = response.json()\n",
    "\n",
    "    if 'direcciones' in data and data['direcciones']:\n",
    "        lon = data['direcciones'][0]['ubicacion']['lon']\n",
    "        return lon\n",
    "    else:\n",
    "        return None\n",
    "    return lon"
   ]
  },
  {
   "cell_type": "code",
   "execution_count": 10,
   "id": "81ede4e2",
   "metadata": {},
   "outputs": [],
   "source": [
    "def extrae_coordenadas(ubicacion):\n",
    "    url_dir = f\"https://apis.datos.gob.ar/georef/api/direcciones?direccion={ubicacion}&provincia=caba\"\n",
    "    response = requests.get(url_dir, verify=False)\n",
    "    data = response.json()\n",
    "\n",
    "    if data['cantidad'] > 0 and 'direcciones' in data and data['direcciones']:\n",
    "        lat = data['direcciones'][0]['ubicacion']['lat']\n",
    "        lon = data['direcciones'][0]['ubicacion']['lon']\n",
    "        return lat, lon\n",
    "    else:\n",
    "        return None, None\n",
    "    return lat,lon"
   ]
  },
  {
   "cell_type": "code",
   "execution_count": 11,
   "id": "281849fb",
   "metadata": {},
   "outputs": [
    {
     "data": {
      "text/plain": [
       "{'cantidad': 0,\n",
       " 'direcciones': [],\n",
       " 'inicio': 0,\n",
       " 'parametros': {'direccion': {'altura': {'unidad': None, 'valor': '300'},\n",
       "   'calles': ['j bonifacio'],\n",
       "   'piso': None,\n",
       "   'tipo': 'simple'},\n",
       "  'provincia': 'caba'},\n",
       " 'total': 0}"
      ]
     },
     "execution_count": 11,
     "metadata": {},
     "output_type": "execute_result"
    }
   ],
   "source": [
    "ubicacion = \"j bonifacio 300\"\n",
    "url_test = f\"https://apis.datos.gob.ar/georef/api/direcciones?direccion={ubicacion}&provincia=caba\"\n",
    "\n",
    "# Realizar la solicitud HTTP\n",
    "response = requests.get(url_test, verify=False)\n",
    "# response\n",
    "data = response.json()\n",
    "data"
   ]
  },
  {
   "cell_type": "code",
   "execution_count": 12,
   "id": "9ef0029c",
   "metadata": {},
   "outputs": [],
   "source": [
    "#Chequeo que todos tengan direcciones válidas --> SOLO CABA\n",
    "def check_n_respuestas(ubicacion):\n",
    "    url_dir = f\"https://apis.datos.gob.ar/georef/api/direcciones?direccion={ubicacion}&provincia=caba\"\n",
    "    response = requests.get(url_dir, verify=False)\n",
    "    data = response.json()\n",
    "    return data['cantidad']"
   ]
  },
  {
   "cell_type": "code",
   "execution_count": 14,
   "id": "1def5392",
   "metadata": {},
   "outputs": [
    {
     "ename": "KeyError",
     "evalue": "'cantidad'",
     "output_type": "error",
     "traceback": [
      "\u001b[1;31m---------------------------------------------------------------------------\u001b[0m",
      "\u001b[1;31mKeyError\u001b[0m                                  Traceback (most recent call last)",
      "Cell \u001b[1;32mIn[14], line 8\u001b[0m\n\u001b[0;32m      5\u001b[0m df[\u001b[38;5;124m'\u001b[39m\u001b[38;5;124mcaso_roto\u001b[39m\u001b[38;5;124m'\u001b[39m] \u001b[38;5;241m=\u001b[39m \u001b[38;5;28;01mTrue\u001b[39;00m\n\u001b[0;32m      7\u001b[0m \u001b[38;5;28;01mfor\u001b[39;00m i \u001b[38;5;129;01min\u001b[39;00m \u001b[38;5;28mrange\u001b[39m(\u001b[38;5;241m0\u001b[39m,df\u001b[38;5;241m.\u001b[39mshape[\u001b[38;5;241m0\u001b[39m]):\n\u001b[1;32m----> 8\u001b[0m     \u001b[38;5;28;01mif\u001b[39;00m \u001b[43mcheck_n_respuestas\u001b[49m\u001b[43m(\u001b[49m\u001b[43mdf\u001b[49m\u001b[38;5;241;43m.\u001b[39;49m\u001b[43mloc\u001b[49m\u001b[43m[\u001b[49m\u001b[43mi\u001b[49m\u001b[43m]\u001b[49m\u001b[43m[\u001b[49m\u001b[38;5;124;43m'\u001b[39;49m\u001b[38;5;124;43mUbicacion\u001b[39;49m\u001b[38;5;124;43m'\u001b[39;49m\u001b[43m]\u001b[49m\u001b[43m)\u001b[49m \u001b[38;5;241m==\u001b[39m \u001b[38;5;241m0\u001b[39m:\n\u001b[0;32m      9\u001b[0m         casos_raros\u001b[38;5;241m.\u001b[39mappend(contador_caso)\n\u001b[0;32m     10\u001b[0m     \u001b[38;5;28;01melif\u001b[39;00m check_n_respuestas(df\u001b[38;5;241m.\u001b[39mloc[i][\u001b[38;5;124m'\u001b[39m\u001b[38;5;124mUbicacion\u001b[39m\u001b[38;5;124m'\u001b[39m]) \u001b[38;5;241m==\u001b[39m \u001b[38;5;241m1\u001b[39m: \n",
      "Cell \u001b[1;32mIn[12], line 6\u001b[0m, in \u001b[0;36mcheck_n_respuestas\u001b[1;34m(ubicacion)\u001b[0m\n\u001b[0;32m      4\u001b[0m response \u001b[38;5;241m=\u001b[39m requests\u001b[38;5;241m.\u001b[39mget(url_dir, verify\u001b[38;5;241m=\u001b[39m\u001b[38;5;28;01mFalse\u001b[39;00m)\n\u001b[0;32m      5\u001b[0m data \u001b[38;5;241m=\u001b[39m response\u001b[38;5;241m.\u001b[39mjson()\n\u001b[1;32m----> 6\u001b[0m \u001b[38;5;28;01mreturn\u001b[39;00m \u001b[43mdata\u001b[49m\u001b[43m[\u001b[49m\u001b[38;5;124;43m'\u001b[39;49m\u001b[38;5;124;43mcantidad\u001b[39;49m\u001b[38;5;124;43m'\u001b[39;49m\u001b[43m]\u001b[49m\n",
      "\u001b[1;31mKeyError\u001b[0m: 'cantidad'"
     ]
    }
   ],
   "source": [
    "#Recorro usando un loop todas las direcciones de la base para identificar cuales me generan problemas con la API\n",
    "contador_caso = 0\n",
    "casos_raros = []\n",
    "casos_ok = []\n",
    "df['caso_roto'] = True\n",
    "\n",
    "for i in range(0,df.shape[0]):\n",
    "    if check_n_respuestas(df.loc[i]['Ubicacion']) == 0:\n",
    "        casos_raros.append(contador_caso)\n",
    "    elif check_n_respuestas(df.loc[i]['Ubicacion']) == 1: \n",
    "        df.loc[i]['caso_roto']=False\n",
    "        casos_ok.append(contador_caso)\n",
    "    else:\n",
    "        casos_raros.append(contador_caso)\n",
    "    \n",
    "    contador_caso +=1\n",
    "    \n",
    "#Usar \"casos_raros\" para identificar cuales son los que traen problemas\n",
    "print(f\"Cantidad de casos con problemas: {df['caso_roto'].sum()}\")"
   ]
  },
  {
   "cell_type": "code",
   "execution_count": 17,
   "id": "452ab91d",
   "metadata": {},
   "outputs": [
    {
     "data": {
      "text/plain": [
       "'mta retiro - live, work & study'"
      ]
     },
     "execution_count": 17,
     "metadata": {},
     "output_type": "execute_result"
    }
   ],
   "source": [
    "df.loc[casos_raros[-1]+1]['Ubicacion']"
   ]
  },
  {
   "cell_type": "code",
   "execution_count": 18,
   "id": "13d945e2",
   "metadata": {},
   "outputs": [
    {
     "data": {
      "text/plain": [
       "{'errores': [{'ayuda': ['formato',\n",
       "    'direccion',\n",
       "    'provincia',\n",
       "    'departamento',\n",
       "    'localidad_censal',\n",
       "    'localidad',\n",
       "    'orden',\n",
       "    'aplanar',\n",
       "    'campos',\n",
       "    'max',\n",
       "    'inicio',\n",
       "    'exacto'],\n",
       "   'codigo_interno': 1000,\n",
       "   'mensaje': \"El parámetro especificado no existe. Los parámetros aceptados están listados bajo la clave 'ayuda'.\",\n",
       "   'nombre_parametro': ' study',\n",
       "   'ubicacion': 'querystring'}]}"
      ]
     },
     "execution_count": 18,
     "metadata": {},
     "output_type": "execute_result"
    }
   ],
   "source": [
    "ubicacion = df.loc[casos_raros[-1]+1]['Ubicacion']\n",
    "url_test = f\"https://apis.datos.gob.ar/georef/api/direcciones?direccion={ubicacion}&provincia=caba\"\n",
    "\n",
    "# Realizar la solicitud HTTP\n",
    "response = requests.get(url_test, verify=False)\n",
    "# response\n",
    "data = response.json()\n",
    "data"
   ]
  },
  {
   "cell_type": "code",
   "execution_count": 15,
   "id": "f56b619f",
   "metadata": {},
   "outputs": [
    {
     "data": {
      "text/plain": [
       "0"
      ]
     },
     "execution_count": 15,
     "metadata": {},
     "output_type": "execute_result"
    }
   ],
   "source": [
    "check_n_respuestas(df.loc[casos_raros[-1]]['Ubicacion'])"
   ]
  },
  {
   "cell_type": "code",
   "execution_count": null,
   "id": "c132556c",
   "metadata": {},
   "outputs": [],
   "source": [
    "casos_ok[-1]"
   ]
  },
  {
   "cell_type": "code",
   "execution_count": null,
   "id": "65662a5d",
   "metadata": {},
   "outputs": [],
   "source": [
    "print(f\"Cantidad de casos con problemas: {df['caso_roto'].sum()}\")"
   ]
  },
  {
   "cell_type": "code",
   "execution_count": null,
   "id": "ab489da2",
   "metadata": {},
   "outputs": [],
   "source": [
    "casos_raros[-1]"
   ]
  },
  {
   "cell_type": "code",
   "execution_count": null,
   "id": "5bf14056",
   "metadata": {},
   "outputs": [],
   "source": [
    "df.loc[casos_ok[-1]]['Ubicacion']"
   ]
  },
  {
   "cell_type": "code",
   "execution_count": null,
   "id": "eb8eda30",
   "metadata": {},
   "outputs": [],
   "source": [
    "extrae_coordenadas(df.loc[casos_raros[-1]-1]['Ubicacion'])"
   ]
  },
  {
   "cell_type": "code",
   "execution_count": null,
   "id": "414276f3",
   "metadata": {},
   "outputs": [],
   "source": [
    "#Recorro usando un loop todas las direcciones de la base para identificar cuales me generan problemas con la API\n",
    "contador_caso = 0\n",
    "casos_raros = []\n",
    "df['caso_roto'] = True\n",
    "\n",
    "for i in range(0,df.shape[0]):\n",
    "    contador_caso +=1\n",
    "    if check_n_respuestas(df.loc[i]['Ubicacion']) > 0:\n",
    "        df.loc[i]['caso_roto']=False\n",
    "    else: \n",
    "        casos_raros.append(contador_caso)\n",
    "        pass\n",
    "#Usar \"casos_raros\" para identificar cuales son los que traen problemas"
   ]
  },
  {
   "cell_type": "code",
   "execution_count": null,
   "id": "ec8e416c",
   "metadata": {},
   "outputs": [],
   "source": [
    "casos_raros[-1]"
   ]
  },
  {
   "cell_type": "code",
   "execution_count": null,
   "id": "0067e762",
   "metadata": {},
   "outputs": [],
   "source": [
    "df.loc[1726]"
   ]
  },
  {
   "cell_type": "code",
   "execution_count": null,
   "id": "6db7f42f",
   "metadata": {},
   "outputs": [],
   "source": [
    "dff = df.loc[df.index < 10]\n",
    "dff"
   ]
  },
  {
   "cell_type": "code",
   "execution_count": null,
   "id": "2dd324cb",
   "metadata": {},
   "outputs": [],
   "source": [
    "dff['lat'], dff['lon'] = zip(*dff['Ubicacion'].map(extrae_coordenadas))\n",
    "dff"
   ]
  },
  {
   "cell_type": "code",
   "execution_count": null,
   "id": "4152651f",
   "metadata": {},
   "outputs": [],
   "source": [
    "dff['lat2'] = dff['Ubicacion'].map(extrae_lat)\n",
    "dff"
   ]
  },
  {
   "cell_type": "code",
   "execution_count": null,
   "id": "20f236b6",
   "metadata": {},
   "outputs": [],
   "source": [
    "df['lat'], df['lon'] = zip(*df['Ubicacion'].map(extrae_coordenadas))\n",
    "df"
   ]
  },
  {
   "cell_type": "code",
   "execution_count": null,
   "id": "7aa1b042",
   "metadata": {},
   "outputs": [],
   "source": [
    "df"
   ]
  },
  {
   "cell_type": "code",
   "execution_count": null,
   "id": "c6099283",
   "metadata": {},
   "outputs": [],
   "source": [
    "df[['lat','lon']]=extrae_coordenadas(df['Ubicacion'])\n",
    "df"
   ]
  },
  {
   "cell_type": "code",
   "execution_count": null,
   "id": "6b2aaec1",
   "metadata": {},
   "outputs": [],
   "source": [
    "fin"
   ]
  },
  {
   "cell_type": "code",
   "execution_count": null,
   "id": "b1bab113",
   "metadata": {},
   "outputs": [],
   "source": [
    "df[['lat','lon']] = extrae_coordenadas(df['Ubicacion'][500])\n",
    "df"
   ]
  },
  {
   "cell_type": "code",
   "execution_count": null,
   "id": "46b052fd",
   "metadata": {},
   "outputs": [],
   "source": [
    "df[['lat','lon']]=map(extrae_coordenadas,df['Ubicacion'])\n",
    "df"
   ]
  },
  {
   "cell_type": "code",
   "execution_count": null,
   "id": "f67e8c72",
   "metadata": {},
   "outputs": [],
   "source": [
    "df['Ubicacion'].tolist()"
   ]
  },
  {
   "cell_type": "code",
   "execution_count": null,
   "id": "28d387ef",
   "metadata": {},
   "outputs": [],
   "source": [
    "url_test = \"https://apis.datos.gob.ar/georef/api/direcciones?departamento=merlo&direccion=Florida%20al%202950\"\n",
    "\n",
    "# Realizar la solicitud HTTP\n",
    "response = requests.get(url_test, verify=False)\n",
    "# response\n",
    "data = response.json()\n",
    "data"
   ]
  },
  {
   "cell_type": "code",
   "execution_count": null,
   "id": "3a68321c",
   "metadata": {},
   "outputs": [],
   "source": [
    "data['cantidad']"
   ]
  },
  {
   "cell_type": "code",
   "execution_count": null,
   "id": "a8d6f225",
   "metadata": {},
   "outputs": [],
   "source": [
    "\"Honduras 3900\"\n",
    "url_base = \"https://apis.datos.gob.ar/georef/api/direcciones?provincia=caba&direccion=Honduras%20al%203900\"\n",
    "response = requests.get(url_base, verify=False)\n",
    "# response\n",
    "data = response.json()\n",
    "data"
   ]
  },
  {
   "cell_type": "code",
   "execution_count": null,
   "id": "55b5ff38",
   "metadata": {},
   "outputs": [],
   "source": [
    "data['direcciones'][0]['ubicacion']['lat']"
   ]
  },
  {
   "cell_type": "code",
   "execution_count": null,
   "id": "d11194d1",
   "metadata": {},
   "outputs": [],
   "source": [
    "data['direcciones'][0]['altura']"
   ]
  }
 ],
 "metadata": {
  "kernelspec": {
   "display_name": "Python 3 (ipykernel)",
   "language": "python",
   "name": "python3"
  },
  "language_info": {
   "codemirror_mode": {
    "name": "ipython",
    "version": 3
   },
   "file_extension": ".py",
   "mimetype": "text/x-python",
   "name": "python",
   "nbconvert_exporter": "python",
   "pygments_lexer": "ipython3",
   "version": "3.10.9"
  }
 },
 "nbformat": 4,
 "nbformat_minor": 5
}
