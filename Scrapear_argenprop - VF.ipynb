{
 "cells": [
  {
   "cell_type": "markdown",
   "id": "MvLxqqdxUd0_",
   "metadata": {
    "id": "MvLxqqdxUd0_"
   },
   "source": [
    "#Librerías"
   ]
  },
  {
   "cell_type": "code",
   "execution_count": null,
   "id": "6da81f21",
   "metadata": {
    "id": "6da81f21"
   },
   "outputs": [],
   "source": [
    "import pandas as pd\n",
    "import numpy as np\n",
    "import requests\n",
    "from bs4 import BeautifulSoup\n",
    "from lxml import etree\n",
    "from datetime import date\n",
    "from datetime import datetime\n",
    "import seaborn as sns\n",
    "import warnings\n",
    "warnings.filterwarnings('ignore')"
   ]
  },
  {
   "cell_type": "code",
   "execution_count": null,
   "id": "FnlgMFe6dVlM",
   "metadata": {
    "id": "FnlgMFe6dVlM"
   },
   "outputs": [],
   "source": [
    "#Fecha de hoy\n",
    "fecha_hoy = datetime.today().strftime('%Y_%m_%d')\n",
    "print(fecha_hoy)"
   ]
  },
  {
   "cell_type": "markdown",
   "id": "6IA9XYByUgHG",
   "metadata": {
    "id": "6IA9XYByUgHG"
   },
   "source": [
    "# Scrapeo paginas"
   ]
  },
  {
   "cell_type": "code",
   "execution_count": null,
   "id": "e9959017",
   "metadata": {
    "colab": {
     "base_uri": "https://localhost:8080/"
    },
    "id": "e9959017",
    "outputId": "fe69fc8d-0c8f-41e1-b5cd-c8d8a4b1599a"
   },
   "outputs": [
    {
     "name": "stdout",
     "output_type": "stream",
     "text": [
      "Página 1 --> Ok, casos relevados: 20\n",
      "Página 2 --> Ok, casos relevados: 20\n",
      "Página 3 --> Ok, casos relevados: 20\n",
      "Página 4 --> Ok, casos relevados: 20\n",
      "Página 5 --> Ok, casos relevados: 20\n",
      "Página 6 --> Ok, casos relevados: 20\n",
      "Página 7 --> Ok, casos relevados: 20\n",
      "Página 8 --> Ok, casos relevados: 20\n",
      "Página 9 --> Ok, casos relevados: 20\n",
      "Página 10 --> Ok, casos relevados: 20\n",
      "Página 11 --> Ok, casos relevados: 20\n",
      "Página 12 --> Ok, casos relevados: 20\n",
      "Página 13 --> Ok, casos relevados: 20\n",
      "Página 14 --> Ok, casos relevados: 20\n",
      "Página 15 --> Ok, casos relevados: 20\n",
      "Página 16 --> Ok, casos relevados: 20\n",
      "Página 17 --> Ok, casos relevados: 20\n",
      "Página 18 --> Ok, casos relevados: 20\n",
      "Página 19 --> Ok, casos relevados: 20\n",
      "Página 20 --> Ok, casos relevados: 20\n",
      "Página 21 --> Ok, casos relevados: 20\n",
      "Página 22 --> Ok, casos relevados: 20\n",
      "Página 23 --> Ok, casos relevados: 20\n",
      "Página 24 --> Ok, casos relevados: 20\n",
      "Página 25 --> Ok, casos relevados: 20\n",
      "Página 26 --> Ok, casos relevados: 20\n",
      "Página 27 --> Ok, casos relevados: 20\n",
      "Página 28 --> Ok, casos relevados: 20\n",
      "Página 29 --> Ok, casos relevados: 20\n",
      "Página 30 --> Ok, casos relevados: 20\n",
      "Página 31 --> Ok, casos relevados: 20\n",
      "Página 32 --> Ok, casos relevados: 20\n",
      "Página 33 --> Ok, casos relevados: 20\n",
      "Página 34 --> Ok, casos relevados: 20\n",
      "Página 35 --> Ok, casos relevados: 20\n",
      "Página 36 --> Ok, casos relevados: 20\n",
      "Página 37 --> Ok, casos relevados: 20\n",
      "Página 38 --> Ok, casos relevados: 20\n",
      "Página 39 --> Ok, casos relevados: 20\n",
      "Página 40 --> Ok, casos relevados: 20\n",
      "Página 41 --> Ok, casos relevados: 20\n",
      "Página 42 --> Ok, casos relevados: 20\n",
      "Página 43 --> Ok, casos relevados: 20\n",
      "Página 44 --> Ok, casos relevados: 20\n",
      "Página 45 --> Ok, casos relevados: 20\n",
      "Página 46 --> Ok, casos relevados: 20\n",
      "Página 47 --> Ok, casos relevados: 20\n",
      "Página 48 --> Ok, casos relevados: 20\n",
      "Página 49 --> Ok, casos relevados: 20\n",
      "Página 50 --> Ok, casos relevados: 20\n",
      "Página 51 --> Ok, casos relevados: 20\n",
      "Página 52 --> Ok, casos relevados: 20\n",
      "Página 53 --> Ok, casos relevados: 20\n",
      "Página 54 --> Ok, casos relevados: 20\n",
      "Página 55 --> Ok, casos relevados: 20\n",
      "Página 56 --> Ok, casos relevados: 20\n",
      "Página 57 --> Ok, casos relevados: 20\n",
      "Página 58 --> Ok, casos relevados: 20\n",
      "Página 59 --> Ok, casos relevados: 20\n",
      "Página 60 --> Ok, casos relevados: 20\n",
      "Página 61 --> Ok, casos relevados: 20\n",
      "Página 62 --> Ok, casos relevados: 20\n",
      "Página 63 --> Ok, casos relevados: 20\n",
      "Página 64 --> Ok, casos relevados: 20\n",
      "Página 65 --> Ok, casos relevados: 20\n",
      "Página 66 --> Ok, casos relevados: 20\n",
      "Página 67 --> Ok, casos relevados: 20\n",
      "Página 68 --> Ok, casos relevados: 20\n",
      "Página 69 --> Ok, casos relevados: 20\n",
      "Página 70 --> Ok, casos relevados: 20\n",
      "Página 71 --> Ok, casos relevados: 20\n",
      "Página 72 --> Ok, casos relevados: 20\n",
      "Página 73 --> Ok, casos relevados: 20\n",
      "Página 74 --> Ok, casos relevados: 20\n",
      "Página 75 --> Ok, casos relevados: 20\n",
      "Página 76 --> Ok, casos relevados: 20\n",
      "Página 77 --> Ok, casos relevados: 20\n",
      "Página 78 --> Ok, casos relevados: 20\n",
      "Página 79 --> Ok, casos relevados: 20\n",
      "Página 80 --> Ok, casos relevados: 20\n",
      "Página 81 --> Ok, casos relevados: 20\n",
      "Página 82 --> Ok, casos relevados: 20\n",
      "Página 83 --> Ok, casos relevados: 20\n",
      "Página 84 --> Ok, casos relevados: 20\n",
      "Página 85 --> Ok, casos relevados: 20\n",
      "Página 86 --> Ok, casos relevados: 20\n",
      "Página 87 --> Ok, casos relevados: 20\n",
      "Página 88 --> Ok, casos relevados: 20\n",
      "Página 89 --> Ok, casos relevados: 20\n",
      "Página 90 --> Ok, casos relevados: 20\n",
      "Página 91 --> Ok, casos relevados: 20\n",
      "Página 92 --> Ok, casos relevados: 20\n",
      "Página 93 --> Ok, casos relevados: 20\n",
      "Página 94 --> Ok, casos relevados: 20\n",
      "Página 95 --> Ok, casos relevados: 20\n",
      "Página 96 --> Ok, casos relevados: 20\n",
      "Página 97 --> Ok, casos relevados: 20\n",
      "Página 98 --> Ok, casos relevados: 20\n",
      "Página 99 --> Ok, casos relevados: 20\n",
      "Página 100 --> Ok, casos relevados: 20\n",
      "Página 101 --> Ok, casos relevados: 20\n",
      "Página 102 --> Ok, casos relevados: 20\n",
      "Página 103 --> Ok, casos relevados: 20\n",
      "Página 104 --> Ok, casos relevados: 20\n",
      "Página 105 --> Ok, casos relevados: 20\n",
      "Página 106 --> Ok, casos relevados: 20\n",
      "Página 107 --> Ok, casos relevados: 20\n",
      "Página 108 --> Ok, casos relevados: 20\n",
      "Página 109 --> Ok, casos relevados: 20\n",
      "Página 110 --> Ok, casos relevados: 20\n"
     ]
    }
   ],
   "source": [
    "%%time\n",
    "# base_url = \"https://www.argenprop.com/departamentos/alquiler/capital-federal-o-villa-urquiza?pagina-\" #ACA SE DEFINEN LAS PAGINAS A SCRAPEAR\n",
    "# base_url = \"https://www.argenprop.com/departamentos-o-ph/alquiler/capital-federal?pagina-\"  #Acá se define el tipo de propiedades, la operacion y la zona\n",
    "base_url = \"https://www.argenprop.com/casas-o-departamentos-o-ph/capital-federal?pagina-\"  #Acá se define el tipo de propiedades, la operacion y la zona\n",
    "\n",
    "\n",
    "pagina_numero = 1 #Genero un contador de páginas\n",
    "\n",
    "df = pd.DataFrame({ \"Clase\":[], \"Barrio\": [], \"Ubicacion\":[],\"Descripcion\":[],\"Precio\":[], \"Links\":[]}) #CReo un DF vacío. Si se agregan nuevas columnas, agregar acá tb\n",
    "\n",
    "while True: #While loop que recorra todas las páginas hasta que no encuentre mas\n",
    "    url = base_url + str(pagina_numero) #URL de la página + nro de página\n",
    "    resultado = requests.get(url, verify=False)\n",
    "\n",
    "    if resultado.status_code == 200: #Condicional que chequea si tiene un resultado efectivo\n",
    "        soup = BeautifulSoup(resultado.text, 'html.parser') #Parsea el html de esa página\n",
    "        siguiente = soup.find_all('a', attrs={\"aria-label\":\"Siguiente\", \"rel\":\"next\"}) #Creo una variable con el contenido de la tarjeta \"siguiente\", si  no la encuentra, esta vacío\n",
    "\n",
    "        clase = soup.find_all('p', attrs={\"class\":\"card__title--primary hide-mobile\"})\n",
    "        clase = [i.text.strip() for i in clase]\n",
    "\n",
    "        barrio_ciudad = soup.find_all('p', attrs={\"class\":\"card__title--primary show-mobile\"})\n",
    "        barrio_ciudad = [i.text.strip() for i in barrio_ciudad]\n",
    "\n",
    "        ubicacion = soup.find_all('p', attrs={\"class\":\"card__address\"})\n",
    "        ubicacion = [i.text.strip() for i in ubicacion]\n",
    "\n",
    "        descripcion = soup.find_all('h2', attrs={\"class\":'card__title'})\n",
    "        descripcion = [i.text.strip() for i in descripcion]\n",
    "\n",
    "        precios = soup.find_all('p', attrs={\"class\":'card__price'})\n",
    "        precios = [i.text.strip() for i in precios]\n",
    "\n",
    "        links = soup.find_all('a', attrs={'class':'card'})\n",
    "        links = [i.get('href') for i in links]\n",
    "        links = list(map(lambda n: f'https://www.argenprop.com{n}', links))\n",
    "\n",
    "        df_prov = pd.DataFrame({\"Clase\":clase, \"Barrio\":barrio_ciudad, \"Ubicacion\":ubicacion,\"Descripcion\":descripcion, \"Precio\":precios, \"Links\":links})\n",
    "\n",
    "        print(f\"Página {pagina_numero} --> Ok, casos relevados: {df_prov.shape[0]}\")\n",
    "\n",
    "        df = pd.concat([df,df_prov], axis=0)\n",
    "\n",
    "        if siguiente:\n",
    "            pagina_numero += 1\n",
    "        else:\n",
    "          print(f\"Fin en página {pagina_numero}\")\n",
    "          break\n",
    "    else:\n",
    "        print(f\"Página no encontrada (Error {resultado.status_code})\")\n",
    "        break\n",
    "\n",
    "df.shape"
   ]
  },
  {
   "cell_type": "code",
   "execution_count": null,
   "id": "BoYSU1RFFkNZ",
   "metadata": {
    "id": "BoYSU1RFFkNZ"
   },
   "outputs": [],
   "source": [
    "df.tail()"
   ]
  },
  {
   "cell_type": "code",
   "execution_count": null,
   "id": "v7RPc70VA24b",
   "metadata": {
    "id": "v7RPc70VA24b"
   },
   "outputs": [],
   "source": [
    "df.shape"
   ]
  },
  {
   "cell_type": "code",
   "execution_count": null,
   "id": "H6unPq4Kh3-r",
   "metadata": {
    "id": "H6unPq4Kh3-r"
   },
   "outputs": [],
   "source": [
    "df.head()"
   ]
  },
  {
   "cell_type": "markdown",
   "id": "fiR_9pIQr7dC",
   "metadata": {
    "id": "fiR_9pIQr7dC"
   },
   "source": [
    "#Acomodo datos"
   ]
  },
  {
   "cell_type": "code",
   "execution_count": null,
   "id": "d17b7645",
   "metadata": {
    "id": "d17b7645"
   },
   "outputs": [],
   "source": [
    "#Normalizo precios y ubicacion\n",
    "df.Precio=df.Precio.str.replace('\\n','').str.replace(' ','').str.replace('USD','USD  ')\n",
    "df.Ubicacion=df.Ubicacion.str.replace('\\n','').str.strip(' ').str.strip('\\n')"
   ]
  },
  {
   "cell_type": "code",
   "execution_count": null,
   "id": "OeR5EG3edgOl",
   "metadata": {
    "id": "OeR5EG3edgOl"
   },
   "outputs": [],
   "source": [
    "#Agrego fecha de la consulta\n",
    "df['fecha_consulta'] = fecha_hoy"
   ]
  },
  {
   "cell_type": "code",
   "execution_count": null,
   "id": "mraucNDyXP_u",
   "metadata": {
    "id": "mraucNDyXP_u"
   },
   "outputs": [],
   "source": [
    "df.sample(10)"
   ]
  },
  {
   "cell_type": "code",
   "execution_count": null,
   "id": "mX1sdIQSl826",
   "metadata": {
    "id": "mX1sdIQSl826"
   },
   "outputs": [],
   "source": [
    "df['Clase'].str.split(' en ',expand=True)"
   ]
  },
  {
   "cell_type": "code",
   "execution_count": null,
   "id": "t1C2QV_Wnzxd",
   "metadata": {
    "id": "t1C2QV_Wnzxd"
   },
   "outputs": [],
   "source": [
    "df.columns.values"
   ]
  },
  {
   "cell_type": "code",
   "execution_count": null,
   "id": "PuxJcxvLn42d",
   "metadata": {
    "id": "PuxJcxvLn42d"
   },
   "outputs": [],
   "source": [
    "# df = df[['Clase', 'Barrio', 'Ubicacion', 'Descripcion', 'Precio', 'Links',\n",
    "#        'fecha_consulta']]"
   ]
  },
  {
   "cell_type": "code",
   "execution_count": null,
   "id": "uf70zhKgmUxn",
   "metadata": {
    "id": "uf70zhKgmUxn"
   },
   "outputs": [],
   "source": [
    "df[['tipo_prop','operacion','Barrio_vf']] = df['Clase'].str.split(' en ', expand=True)\n",
    "df[['Barrio_vf','localidad']] = df['Barrio_vf'].str.split(',', expand=True)\n",
    "df"
   ]
  },
  {
   "cell_type": "code",
   "execution_count": null,
   "id": "df9u0MOvpWeR",
   "metadata": {
    "id": "df9u0MOvpWeR"
   },
   "outputs": [],
   "source": [
    "df.operacion.unique()"
   ]
  },
  {
   "cell_type": "code",
   "execution_count": null,
   "id": "oK2XQTdMGaMW",
   "metadata": {
    "id": "oK2XQTdMGaMW"
   },
   "outputs": [],
   "source": [
    "df.operacion.value_counts(normalize=True)"
   ]
  },
  {
   "cell_type": "code",
   "execution_count": null,
   "id": "qgyb8s3tGl73",
   "metadata": {
    "id": "qgyb8s3tGl73"
   },
   "outputs": [],
   "source": [
    "df.tipo_prop.value_counts(normalize=True)"
   ]
  },
  {
   "cell_type": "code",
   "execution_count": null,
   "id": "FQIh60vPA5XS",
   "metadata": {
    "id": "FQIh60vPA5XS"
   },
   "outputs": [],
   "source": [
    "df.head()"
   ]
  },
  {
   "cell_type": "markdown",
   "id": "_t9bKAnZr_E4",
   "metadata": {
    "id": "_t9bKAnZr_E4"
   },
   "source": [
    "#Guardar base"
   ]
  },
  {
   "cell_type": "code",
   "execution_count": null,
   "id": "dced04c9",
   "metadata": {
    "id": "dced04c9"
   },
   "outputs": [],
   "source": [
    "# df.to_csv(f'Argenprop_CABA_{fecha_hoy}.csv')"
   ]
  }
 ],
 "metadata": {
  "colab": {
   "provenance": [],
   "toc_visible": true
  },
  "kernelspec": {
   "display_name": "Python 3 (ipykernel)",
   "language": "python",
   "name": "python3"
  },
  "language_info": {
   "codemirror_mode": {
    "name": "ipython",
    "version": 3
   },
   "file_extension": ".py",
   "mimetype": "text/x-python",
   "name": "python",
   "nbconvert_exporter": "python",
   "pygments_lexer": "ipython3",
   "version": "3.10.9"
  }
 },
 "nbformat": 4,
 "nbformat_minor": 5
}
